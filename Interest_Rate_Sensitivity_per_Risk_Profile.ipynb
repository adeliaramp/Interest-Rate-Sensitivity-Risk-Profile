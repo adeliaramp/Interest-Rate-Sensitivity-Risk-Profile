{
  "nbformat": 4,
  "nbformat_minor": 0,
  "metadata": {
    "colab": {
      "provenance": [],
      "authorship_tag": "ABX9TyO8+G5q4wsSjMAAe5gLVmCo",
      "include_colab_link": true
    },
    "kernelspec": {
      "name": "python3",
      "display_name": "Python 3"
    },
    "language_info": {
      "name": "python"
    }
  },
  "cells": [
    {
      "cell_type": "markdown",
      "metadata": {
        "id": "view-in-github",
        "colab_type": "text"
      },
      "source": [
        "<a href=\"https://colab.research.google.com/github/adeliaramp/Interest-Rate-Sensitivity-Risk-Profile/blob/main/Interest_Rate_Sensitivity_per_Risk_Profile.ipynb\" target=\"_parent\"><img src=\"https://colab.research.google.com/assets/colab-badge.svg\" alt=\"Open In Colab\"/></a>"
      ]
    },
    {
      "cell_type": "code",
      "execution_count": 77,
      "metadata": {
        "id": "B6ozwbMDdnoo"
      },
      "outputs": [],
      "source": [
        "import pandas as pd\n",
        "import numpy as np\n",
        "import matplotlib.pyplot as plt\n",
        "import seaborn as sns\n",
        "from sklearn.linear_model import LogisticRegression\n",
        "from sklearn.model_selection import train_test_split\n",
        "from sklearn.metrics import classification_report, roc_auc_score\n",
        "from imblearn.under_sampling import RandomUnderSampler\n"
      ]
    },
    {
      "cell_type": "code",
      "source": [
        "from google.colab import files\n",
        "uploaded = files.upload()"
      ],
      "metadata": {
        "colab": {
          "base_uri": "https://localhost:8080/",
          "height": 73
        },
        "id": "6lMw72memWnI",
        "outputId": "4cbe5d81-9568-4849-b22d-c754f04e02b7"
      },
      "execution_count": 78,
      "outputs": [
        {
          "output_type": "display_data",
          "data": {
            "text/plain": [
              "<IPython.core.display.HTML object>"
            ],
            "text/html": [
              "\n",
              "     <input type=\"file\" id=\"files-735281fb-9ac4-42ba-923d-06fe96e1c4df\" name=\"files[]\" multiple disabled\n",
              "        style=\"border:none\" />\n",
              "     <output id=\"result-735281fb-9ac4-42ba-923d-06fe96e1c4df\">\n",
              "      Upload widget is only available when the cell has been executed in the\n",
              "      current browser session. Please rerun this cell to enable.\n",
              "      </output>\n",
              "      <script>// Copyright 2017 Google LLC\n",
              "//\n",
              "// Licensed under the Apache License, Version 2.0 (the \"License\");\n",
              "// you may not use this file except in compliance with the License.\n",
              "// You may obtain a copy of the License at\n",
              "//\n",
              "//      http://www.apache.org/licenses/LICENSE-2.0\n",
              "//\n",
              "// Unless required by applicable law or agreed to in writing, software\n",
              "// distributed under the License is distributed on an \"AS IS\" BASIS,\n",
              "// WITHOUT WARRANTIES OR CONDITIONS OF ANY KIND, either express or implied.\n",
              "// See the License for the specific language governing permissions and\n",
              "// limitations under the License.\n",
              "\n",
              "/**\n",
              " * @fileoverview Helpers for google.colab Python module.\n",
              " */\n",
              "(function(scope) {\n",
              "function span(text, styleAttributes = {}) {\n",
              "  const element = document.createElement('span');\n",
              "  element.textContent = text;\n",
              "  for (const key of Object.keys(styleAttributes)) {\n",
              "    element.style[key] = styleAttributes[key];\n",
              "  }\n",
              "  return element;\n",
              "}\n",
              "\n",
              "// Max number of bytes which will be uploaded at a time.\n",
              "const MAX_PAYLOAD_SIZE = 100 * 1024;\n",
              "\n",
              "function _uploadFiles(inputId, outputId) {\n",
              "  const steps = uploadFilesStep(inputId, outputId);\n",
              "  const outputElement = document.getElementById(outputId);\n",
              "  // Cache steps on the outputElement to make it available for the next call\n",
              "  // to uploadFilesContinue from Python.\n",
              "  outputElement.steps = steps;\n",
              "\n",
              "  return _uploadFilesContinue(outputId);\n",
              "}\n",
              "\n",
              "// This is roughly an async generator (not supported in the browser yet),\n",
              "// where there are multiple asynchronous steps and the Python side is going\n",
              "// to poll for completion of each step.\n",
              "// This uses a Promise to block the python side on completion of each step,\n",
              "// then passes the result of the previous step as the input to the next step.\n",
              "function _uploadFilesContinue(outputId) {\n",
              "  const outputElement = document.getElementById(outputId);\n",
              "  const steps = outputElement.steps;\n",
              "\n",
              "  const next = steps.next(outputElement.lastPromiseValue);\n",
              "  return Promise.resolve(next.value.promise).then((value) => {\n",
              "    // Cache the last promise value to make it available to the next\n",
              "    // step of the generator.\n",
              "    outputElement.lastPromiseValue = value;\n",
              "    return next.value.response;\n",
              "  });\n",
              "}\n",
              "\n",
              "/**\n",
              " * Generator function which is called between each async step of the upload\n",
              " * process.\n",
              " * @param {string} inputId Element ID of the input file picker element.\n",
              " * @param {string} outputId Element ID of the output display.\n",
              " * @return {!Iterable<!Object>} Iterable of next steps.\n",
              " */\n",
              "function* uploadFilesStep(inputId, outputId) {\n",
              "  const inputElement = document.getElementById(inputId);\n",
              "  inputElement.disabled = false;\n",
              "\n",
              "  const outputElement = document.getElementById(outputId);\n",
              "  outputElement.innerHTML = '';\n",
              "\n",
              "  const pickedPromise = new Promise((resolve) => {\n",
              "    inputElement.addEventListener('change', (e) => {\n",
              "      resolve(e.target.files);\n",
              "    });\n",
              "  });\n",
              "\n",
              "  const cancel = document.createElement('button');\n",
              "  inputElement.parentElement.appendChild(cancel);\n",
              "  cancel.textContent = 'Cancel upload';\n",
              "  const cancelPromise = new Promise((resolve) => {\n",
              "    cancel.onclick = () => {\n",
              "      resolve(null);\n",
              "    };\n",
              "  });\n",
              "\n",
              "  // Wait for the user to pick the files.\n",
              "  const files = yield {\n",
              "    promise: Promise.race([pickedPromise, cancelPromise]),\n",
              "    response: {\n",
              "      action: 'starting',\n",
              "    }\n",
              "  };\n",
              "\n",
              "  cancel.remove();\n",
              "\n",
              "  // Disable the input element since further picks are not allowed.\n",
              "  inputElement.disabled = true;\n",
              "\n",
              "  if (!files) {\n",
              "    return {\n",
              "      response: {\n",
              "        action: 'complete',\n",
              "      }\n",
              "    };\n",
              "  }\n",
              "\n",
              "  for (const file of files) {\n",
              "    const li = document.createElement('li');\n",
              "    li.append(span(file.name, {fontWeight: 'bold'}));\n",
              "    li.append(span(\n",
              "        `(${file.type || 'n/a'}) - ${file.size} bytes, ` +\n",
              "        `last modified: ${\n",
              "            file.lastModifiedDate ? file.lastModifiedDate.toLocaleDateString() :\n",
              "                                    'n/a'} - `));\n",
              "    const percent = span('0% done');\n",
              "    li.appendChild(percent);\n",
              "\n",
              "    outputElement.appendChild(li);\n",
              "\n",
              "    const fileDataPromise = new Promise((resolve) => {\n",
              "      const reader = new FileReader();\n",
              "      reader.onload = (e) => {\n",
              "        resolve(e.target.result);\n",
              "      };\n",
              "      reader.readAsArrayBuffer(file);\n",
              "    });\n",
              "    // Wait for the data to be ready.\n",
              "    let fileData = yield {\n",
              "      promise: fileDataPromise,\n",
              "      response: {\n",
              "        action: 'continue',\n",
              "      }\n",
              "    };\n",
              "\n",
              "    // Use a chunked sending to avoid message size limits. See b/62115660.\n",
              "    let position = 0;\n",
              "    do {\n",
              "      const length = Math.min(fileData.byteLength - position, MAX_PAYLOAD_SIZE);\n",
              "      const chunk = new Uint8Array(fileData, position, length);\n",
              "      position += length;\n",
              "\n",
              "      const base64 = btoa(String.fromCharCode.apply(null, chunk));\n",
              "      yield {\n",
              "        response: {\n",
              "          action: 'append',\n",
              "          file: file.name,\n",
              "          data: base64,\n",
              "        },\n",
              "      };\n",
              "\n",
              "      let percentDone = fileData.byteLength === 0 ?\n",
              "          100 :\n",
              "          Math.round((position / fileData.byteLength) * 100);\n",
              "      percent.textContent = `${percentDone}% done`;\n",
              "\n",
              "    } while (position < fileData.byteLength);\n",
              "  }\n",
              "\n",
              "  // All done.\n",
              "  yield {\n",
              "    response: {\n",
              "      action: 'complete',\n",
              "    }\n",
              "  };\n",
              "}\n",
              "\n",
              "scope.google = scope.google || {};\n",
              "scope.google.colab = scope.google.colab || {};\n",
              "scope.google.colab._files = {\n",
              "  _uploadFiles,\n",
              "  _uploadFilesContinue,\n",
              "};\n",
              "})(self);\n",
              "</script> "
            ]
          },
          "metadata": {}
        },
        {
          "output_type": "stream",
          "name": "stdout",
          "text": [
            "Saving 1_fixed_rate_loan_mock_data.csv to 1_fixed_rate_loan_mock_data (3).csv\n"
          ]
        }
      ]
    },
    {
      "cell_type": "code",
      "source": [
        "# Load the loan data\n",
        "loan_data = pd.read_csv('1_fixed_rate_loan_mock_data.csv')\n",
        "\n",
        "# Quick preview of the data\n",
        "print(loan_data.head())"
      ],
      "metadata": {
        "colab": {
          "base_uri": "https://localhost:8080/"
        },
        "id": "j42CxHCplwqz",
        "outputId": "1cbb159b-6f9b-4eda-b497-ebe05665e019"
      },
      "execution_count": 79,
      "outputs": [
        {
          "output_type": "stream",
          "name": "stdout",
          "text": [
            "   LoanID  CustomerID  LoanAmount  Income RiskProfile  InterestRate  \\\n",
            "0       1        4174       15000    5000         Low          5.59   \n",
            "1       2        4507       25000    7000      Medium         10.94   \n",
            "2       3        1860       25000    7000      Medium          8.30   \n",
            "3       4        2294        5000    4000         Low          6.76   \n",
            "4       5        2130        5000    4000        High         14.19   \n",
            "\n",
            "   Repayment  Default  \n",
            "0        900        0  \n",
            "1        700        0  \n",
            "2        300        0  \n",
            "3        300        0  \n",
            "4        500        1  \n"
          ]
        }
      ]
    },
    {
      "cell_type": "code",
      "source": [
        "# EDA: Visualizing interest rate distribution by risk profile\n",
        "plt.figure(figsize=(10, 6))\n",
        "sns.boxplot(x='RiskProfile', y='InterestRate', data=loan_data)\n",
        "plt.title('Interest Rate Distribution by Risk Profile')\n",
        "plt.xlabel('Risk Profile')\n",
        "plt.ylabel('Interest Rate (%)')\n",
        "plt.show()\n"
      ],
      "metadata": {
        "colab": {
          "base_uri": "https://localhost:8080/",
          "height": 564
        },
        "id": "Qye06WXXl03p",
        "outputId": "4952fe3e-19b6-4f70-ca2a-503f0b0bb002"
      },
      "execution_count": 80,
      "outputs": [
        {
          "output_type": "display_data",
          "data": {
            "text/plain": [
              "<Figure size 1000x600 with 1 Axes>"
            ],
            "image/png": "[encoded data removed]"
          },
          "metadata": {}
        }
      ]
    },
    {
      "cell_type": "code",
      "source": [
        "# Analyzing default rates across risk profiles\n",
        "default_rates = loan_data.groupby('RiskProfile')['Default'].mean()\n",
        "print(\"\\nDefault Rates by Risk Profile:\")\n",
        "print(default_rates)"
      ],
      "metadata": {
        "colab": {
          "base_uri": "https://localhost:8080/"
        },
        "id": "5Rov-vSil2qg",
        "outputId": "c667063b-d91b-40b5-80df-9841065c34a6"
      },
      "execution_count": 81,
      "outputs": [
        {
          "output_type": "stream",
          "name": "stdout",
          "text": [
            "\n",
            "Default Rates by Risk Profile:\n",
            "RiskProfile\n",
            "High      0.350000\n",
            "Low       0.051980\n",
            "Medium    0.143939\n",
            "Name: Default, dtype: float64\n"
          ]
        }
      ]
    },
    {
      "cell_type": "code",
      "source": [
        "# Logistic Regression: Modeling default probability\n",
        "X = loan_data[['InterestRate', 'LoanAmount', 'Income']]\n",
        "y = loan_data['Default']\n",
        "\n",
        "# Split data into training and testing sets\n",
        "X_train, X_test, y_train, y_test = train_test_split(X, y, test_size=0.3, random_state=42, stratify=y)\n"
      ],
      "metadata": {
        "id": "S6LIUW8Al8B4"
      },
      "execution_count": 82,
      "outputs": []
    },
    {
      "cell_type": "code",
      "source": [
        "# Check class distribution before undersampling\n",
        "print(\"\\nClass Distribution Before Undersampling:\")\n",
        "print(y_train.value_counts())\n",
        "\n",
        "# Apply Random Undersampling\n",
        "rus = RandomUnderSampler(random_state=42)\n",
        "X_resampled, y_resampled = rus.fit_resample(X_train, y_train)\n",
        "\n",
        "# Check class distribution after undersampling\n",
        "print(\"\\nClass Distribution After Undersampling:\")\n",
        "print(y_resampled.value_counts())"
      ],
      "metadata": {
        "colab": {
          "base_uri": "https://localhost:8080/"
        },
        "id": "L0Y9I1xTtnlw",
        "outputId": "d06ffa1c-0fdd-4a32-9af9-e97ab2f7537d"
      },
      "execution_count": 83,
      "outputs": [
        {
          "output_type": "stream",
          "name": "stdout",
          "text": [
            "\n",
            "Class Distribution Before Undersampling:\n",
            "Default\n",
            "0    596\n",
            "1    104\n",
            "Name: count, dtype: int64\n",
            "\n",
            "Class Distribution After Undersampling:\n",
            "Default\n",
            "0    104\n",
            "1    104\n",
            "Name: count, dtype: int64\n"
          ]
        },
        {
          "output_type": "stream",
          "name": "stderr",
          "text": [
            "/usr/local/lib/python3.10/dist-packages/sklearn/base.py:484: FutureWarning: `BaseEstimator._check_n_features` is deprecated in 1.6 and will be removed in 1.7. Use `sklearn.utils.validation._check_n_features` instead.\n",
            "  warnings.warn(\n",
            "/usr/local/lib/python3.10/dist-packages/sklearn/base.py:493: FutureWarning: `BaseEstimator._check_feature_names` is deprecated in 1.6 and will be removed in 1.7. Use `sklearn.utils.validation._check_feature_names` instead.\n",
            "  warnings.warn(\n"
          ]
        }
      ]
    },
    {
      "cell_type": "code",
      "source": [
        "# Train the logistic regression model\n",
        "log_reg = LogisticRegression()\n",
        "log_reg.fit(X_resampled, y_resampled)\n",
        "\n",
        "# Predict on the test set\n",
        "y_pred = log_reg.predict(X_test)\n",
        "y_pred_proba = log_reg.predict_proba(X_test)[:, 1]"
      ],
      "metadata": {
        "id": "_Hym7y1otoea"
      },
      "execution_count": 84,
      "outputs": []
    },
    {
      "cell_type": "code",
      "source": [
        "# Evaluate the model\n",
        "print(\"\\nClassification Report After Undersampling:\")\n",
        "print(classification_report(y_test, y_pred))\n",
        "\n",
        "# AUC-ROC Score\n",
        "roc_auc = roc_auc_score(y_test, y_pred_proba)\n",
        "print(f\"\\nAUC-ROC Score: {roc_auc:.4f}\")"
      ],
      "metadata": {
        "colab": {
          "base_uri": "https://localhost:8080/"
        },
        "id": "zR9Fnxnjl9pm",
        "outputId": "43d670bc-5f33-44bc-f018-d53fb4fab1a2"
      },
      "execution_count": 85,
      "outputs": [
        {
          "output_type": "stream",
          "name": "stdout",
          "text": [
            "\n",
            "Classification Report After Undersampling:\n",
            "              precision    recall  f1-score   support\n",
            "\n",
            "           0       0.91      0.71      0.80       256\n",
            "           1       0.27      0.61      0.37        44\n",
            "\n",
            "    accuracy                           0.70       300\n",
            "   macro avg       0.59      0.66      0.59       300\n",
            "weighted avg       0.82      0.70      0.74       300\n",
            "\n",
            "\n",
            "AUC-ROC Score: 0.6884\n"
          ]
        }
      ]
    },
    {
      "cell_type": "code",
      "source": [
        "# Define risk profile scenarios\n",
        "risk_profiles = ['Low', 'Medium', 'High']\n",
        "simulated_defaults = []\n",
        "\n",
        "for profile in risk_profiles:\n",
        "    # Generate interest rates for the given profile\n",
        "    profile_data = loan_data[loan_data['RiskProfile'] == profile]\n",
        "    simulated_interest_rates = np.random.normal(\n",
        "        loc=profile_data['InterestRate'].mean(),\n",
        "        scale=profile_data['InterestRate'].std(),\n",
        "        size=1000\n",
        "    )\n",
        "\n",
        "    # Simulate default probabilities\n",
        "    for rate in simulated_interest_rates:\n",
        "        X_sim = pd.DataFrame({\n",
        "            'InterestRate': [rate],\n",
        "            'LoanAmount': [X['LoanAmount'].mean()],\n",
        "            'Income': [X['Income'].mean()]\n",
        "        })\n",
        "        sim_default = log_reg.predict_proba(X_sim)[:, 1]\n",
        "        simulated_defaults.append((profile, rate, sim_default[0]))\n",
        "\n",
        "# Convert simulation results to a DataFrame\n",
        "simulated_results = pd.DataFrame(simulated_defaults, columns=['RiskProfile', 'InterestRate', 'DefaultProbability'])"
      ],
      "metadata": {
        "id": "16BbMREemC6d"
      },
      "execution_count": 86,
      "outputs": []
    },
    {
      "cell_type": "code",
      "source": [
        "#Create the visualization of the results\n",
        "\n",
        "plt.figure(figsize=(12, 8))\n",
        "\n",
        "# Create the boxplot\n",
        "sns.boxplot(\n",
        "    x='RiskProfile',\n",
        "    y='DefaultProbability',\n",
        "    data=simulated_results,\n",
        "    palette='coolwarm',\n",
        "    width=0.6\n",
        ")\n",
        "\n",
        "# Add titles and labels\n",
        "plt.title('Simulated Default Probabilities by Risk Profile', fontsize=18, weight='bold')\n",
        "plt.xlabel('Risk Profile', fontsize=14)\n",
        "plt.ylabel('Default Probability', fontsize=14)\n",
        "plt.xticks(fontsize=12)\n",
        "plt.yticks(fontsize=12)\n",
        "\n",
        "# Add a grid for better readability\n",
        "plt.grid(axis='y', linestyle='--', alpha=0.6)\n",
        "\n",
        "# Adjust layout to prevent overlapping\n",
        "plt.tight_layout()\n",
        "\n",
        "# Show the plot\n",
        "plt.show()\n",
        "\n"
      ],
      "metadata": {
        "colab": {
          "base_uri": "https://localhost:8080/",
          "height": 894
        },
        "id": "n4GDNyWRltso",
        "outputId": "777b4bb3-adae-4af6-c432-b6e8ecfbb63e"
      },
      "execution_count": 87,
      "outputs": [
        {
          "output_type": "stream",
          "name": "stderr",
          "text": [
            "<ipython-input-87-4d38bbfd6180>:6: FutureWarning: \n",
            "\n",
            "Passing `palette` without assigning `hue` is deprecated and will be removed in v0.14.0. Assign the `x` variable to `hue` and set `legend=False` for the same effect.\n",
            "\n",
            "  sns.boxplot(\n"
          ]
        },
        {
          "output_type": "display_data",
          "data": {
            "text/plain": [
              "<Figure size 1200x800 with 1 Axes>"
            ],
            "image/png": "[encoded data removed]"
          },
          "metadata": {}
        }
      ]
    },
    {
      "cell_type": "markdown",
      "source": [
        "# Highlights\n",
        "1**. Low-Risk Profile:**\n",
        "* Low Default Probability: The default probabilities are concentrated in a lower range with a relatively narrow interquartile range (IQR), indicating stability and predictability in repayment behavior.\n",
        "* Few Outliers: The outliers indicate rare cases of higher default probabilities, which may require minimal intervention or targeted analysis.\n",
        "\n",
        "**2. Medium-Risk Profile:**\n",
        "* Moderate Default Probability: The default probabilities have a wider IQR, showing higher variability compared to the low-risk group.\n",
        "* Higher Median: The median default probability is higher than the low-risk group, suggesting a higher likelihood of defaults in this category.\n",
        "* A Few Low Outliers: Rare cases of borrowers with lower default probabilities despite being categorized as medium risk.\n",
        "\n",
        "**3. High-Risk Profile:**\n",
        "* High Default Probability: The default probabilities show the widest range and the highest median, reflecting significant risk associated with this group.\n",
        "* Significant Spread: The data has a wide IQR, indicating diverse repayment behaviors within this group.\n",
        "* Unusual Low Outliers: Some borrowers in this category demonstrate low default probabilities, which could indicate exceptional repayment behavior or misclassification.\n",
        "\n",
        "\n",
        "---\n",
        "\n",
        "\n",
        "**Recommendations**\n",
        "\n",
        "**1. Low-Risk Borrowers:**\n",
        "* Expand Lending: Focus on increasing loan approvals for this group to capitalize on their stable repayment behavior.\n",
        "* Incentivize Loyalty: Introduce rewards programs such as lower interest rates or faster loan processing to retain and attract low-risk borrowers.\n",
        "\n",
        "**2. Medium-Risk Borrowers:**\n",
        "* Monitor Closely: Develop monitoring tools to identify early warning signs of potential defaults within this group.\n",
        "* Personalized Repayment Options: Provide flexible repayment plans or partial repayment options to reduce default probabilities.\n",
        "* Risk Reassessment: Use updated data or machine learning models to reassess the risk profile and adjust strategies accordingly.\n",
        "\n",
        "**3. High-Risk Borrowers:**\n",
        "* Tighten Eligibility: Restrict loan approvals for high-risk borrowers or require collateral to minimize financial exposure.\n",
        "* Focused Support: Offer financial education or counseling programs to help these borrowers improve their repayment capacity.\n",
        "* Dynamic Pricing: Introduce higher interest rates or other compensatory measures to offset the higher default risk.\n",
        "\n",
        "**4. Overall Strategies:**\n",
        "* Portfolio Optimization: Diversify the loan portfolio to include a higher proportion of low- and medium-risk borrowers while minimizing exposure to high-risk borrowers.\n",
        "* Enhanced Risk Modeling: Implement advanced machine learning models to dynamically update risk profiles and improve classification accuracy.\n",
        "* Outlier Analysis: Investigate outliers in the high- and medium-risk categories to identify factors driving lower default probabilities.\n",
        "\n",
        "These recommendations aim to optimize lending strategies, reduce default rates, and enhance the financial performance of the loan portfolio.\n",
        "\n",
        "\n",
        "\n",
        "\n",
        "\n",
        "\n",
        "\n",
        "\n",
        "\n",
        "\n",
        "\n",
        "\n",
        "\n"
      ],
      "metadata": {
        "id": "Lv8hQnykp3gG"
      }
    },
    {
      "cell_type": "markdown",
      "source": [
        "# Recommendations for Model Evaluation Improvements\n",
        "1. Increase Recall for Class 1 (Default):\n",
        "\n",
        "* The model captures 61% of actual defaults, but this can be improved:\n",
        "  * Implement SMOTE or Oversampling: Balance the dataset by synthetically generating more instances of Class 1 to help the model learn better patterns for defaults.\n",
        "  * Cost-Sensitive Learning: Penalize the model more heavily for misclassifying defaults to increase recall.\n",
        "\n",
        "2. Improve Precision for Class 1 (Default):\n",
        "* A precision of 27% indicates too many false positives (non-defaults classified as defaults):\n",
        "  * Feature Selection/Engineering: Identify and use additional features that differentiate defaults and non-defaults more effectively.\n",
        "  * Threshold Tuning: Adjust the decision threshold for predicting Class 1 to reduce false positives without significantly lowering recall.\n",
        "\n",
        "3. Boost F1-Score for Class 1:\n",
        "* The F1-score for Class 1 is low (0.37) due to the tradeoff between precision and recall:\n",
        "  * Use Ensemble Models: Try algorithms like Random Forest or XGBoost that can better handle imbalanced datasets and improve F1-scores.\n",
        "  * Cross-Validation: Perform cross-validation to fine-tune the model and ensure consistency in balancing precision and recall.\n",
        "\n",
        "4. Enhance Overall AUC-ROC Score:\n",
        "* An AUC-ROC of 0.6884 is moderate and indicates room for improvement in distinguishing between classes:\n",
        "  * Hyperparameter Tuning: Optimize model parameters to improve the separation of the two classes.\n",
        "  * Experiment with Advanced Models: Use gradient boosting or neural networks to achieve better performance in complex datasets.\n",
        "\n",
        "5. Increase Macro Average Metrics:\n",
        "* The macro average for precision (0.59) and F1-score (0.59) reflects poor performance on the minority class:\n",
        "  * Data Augmentation: Create synthetic datasets or generate more diverse training samples to strengthen minority class predictions.\n",
        "  * Analyze Misclassifications: Study incorrectly classified cases to identify gaps in the model's ability to learn class boundaries.\n",
        "\n",
        "6. Evaluate Weighted Metrics for Business Relevance:\n",
        "* Weighted averages are skewed toward the majority class, which may not align with business objectives:\n",
        "  * Business-Driven Metrics: Use evaluation metrics like cost matrices to quantify the financial impact of false positives and false negatives, and tune the model accordingly.\n",
        "  * Custom Evaluation Metrics: Define domain-specific metrics (e.g., financial loss minimization) to align model optimization with business goals.\n"
      ],
      "metadata": {
        "id": "Hkk9FoDO1hxd"
      }
    }
  ]
}